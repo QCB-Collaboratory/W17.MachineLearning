{
 "cells": [
  {
   "cell_type": "markdown",
   "metadata": {},
   "source": [
    "# Machine Learning with Python\n",
    "\n",
    "Collaboratory workshop, 02/21/2018\n",
    "\n",
    "This is a notebook developed throughout the first day of the Collaboratory Workshop, Machine Learning with Python. For more information, go to the workshop home page:\n",
    "\n",
    "https://github.com/QCB-Collaboratory/W17.MachineLearning/wiki/Day-2"
   ]
  },
  {
   "cell_type": "code",
   "execution_count": 1,
   "metadata": {
    "collapsed": true
   },
   "outputs": [],
   "source": [
    "import numpy as np\n",
    "import pylab as pl"
   ]
  },
  {
   "cell_type": "markdown",
   "metadata": {},
   "source": [
    "## Loading the synthetic data"
   ]
  },
  {
   "cell_type": "markdown",
   "metadata": {},
   "source": [
    "You can download this data in our [wiki](https://github.com/QCB-Collaboratory/W17.MachineLearning/wiki/Day-2), or using this [direct link](https://github.com/QCB-Collaboratory/W17.MachineLearning/raw/master/materials/day_2/Day2_testdataset.zip). After downloading, move the file to the same place where you are running your notebook and unzip it. You should now have two files: \n",
    "\n",
    "* ```CollML_testdataset_features.dat```: contains feature values for each sample\n",
    "* ```CollML_testdataset_labels.dat```: contains the class of each sample"
   ]
  },
  {
   "cell_type": "code",
   "execution_count": 2,
   "metadata": {
    "collapsed": true
   },
   "outputs": [],
   "source": [
    "features = np.loadtxt('CollML_testdataset_features.dat')\n",
    "labels   = np.loadtxt('CollML_testdataset_labels.dat')"
   ]
  },
  {
   "cell_type": "code",
   "execution_count": 3,
   "metadata": {},
   "outputs": [
    {
     "name": "stdout",
     "output_type": "stream",
     "text": [
      "Shape of features (500, 2)\n",
      "Shape of labels (500,)\n"
     ]
    }
   ],
   "source": [
    "print(\"Shape of features\", features.shape)\n",
    "print(\"Shape of labels\", labels.shape)"
   ]
  },
  {
   "cell_type": "markdown",
   "metadata": {},
   "source": [
    "We want to create a classifier that reproduces the labels in the NumPy array _labels_ based on _features_. Based on the shapes shown above, we have 2 features, and 500 samples.\n",
    "\n",
    "Let's start by visualizing this dataset."
   ]
  },
  {
   "cell_type": "code",
   "execution_count": 4,
   "metadata": {},
   "outputs": [
    {
     "data": {
      "text/plain": [
       "array([ 0.,  1.])"
      ]
     },
     "execution_count": 4,
     "metadata": {},
     "output_type": "execute_result"
    }
   ],
   "source": [
    "np.unique(labels)   ## shows unique values in an array"
   ]
  },
  {
   "cell_type": "code",
   "execution_count": 5,
   "metadata": {},
   "outputs": [
    {
     "data": {
      "image/png": "[encoded data removed]",
      "text/plain": [
       "<matplotlib.figure.Figure at 0x113629dd8>"
      ]
     },
     "metadata": {},
     "output_type": "display_data"
    }
   ],
   "source": [
    "pl.plot( features[ labels == 0, 0 ], features[ labels == 0, 1 ], 'ro'  )\n",
    "pl.plot( features[ labels == 1, 0 ], features[ labels == 1, 1 ], 'bs'  )\n",
    "pl.show()"
   ]
  },
  {
   "cell_type": "code",
   "execution_count": 6,
   "metadata": {},
   "outputs": [
    {
     "data": {
      "image/png": "[encoded data removed]",
      "text/plain": [
       "<matplotlib.figure.Figure at 0x1186a1710>"
      ]
     },
     "metadata": {},
     "output_type": "display_data"
    }
   ],
   "source": [
    "## Re-doing the previous plot, but with more details\n",
    "pl.figure( figsize=(4,3) )\n",
    "pl.plot( features[ labels == 0, 0 ], features[ labels == 0, 1 ], 'o',\n",
    "           markersize=5, color=(1.,0.2,0.1))\n",
    "pl.plot( features[ labels == 1, 0 ], features[ labels == 1, 1 ], 's',\n",
    "           markersize=4, color=(0.1,0.5,1.0))\n",
    "\n",
    "pl.xlabel('X1')\n",
    "pl.ylabel('X2')\n",
    "pl.tight_layout()\n",
    "pl.savefig('SyntheticDataset.png', dpi=500)\n",
    "pl.show()"
   ]
  },
  {
   "cell_type": "markdown",
   "metadata": {},
   "source": [
    "## Decision Trees  - Synthetic data"
   ]
  },
  {
   "cell_type": "markdown",
   "metadata": {},
   "source": [
    "Let's start creating our Decision Tree classifier"
   ]
  },
  {
   "cell_type": "code",
   "execution_count": 7,
   "metadata": {
    "collapsed": true
   },
   "outputs": [],
   "source": [
    "from sklearn.tree import DecisionTreeClassifier\n",
    "clf = DecisionTreeClassifier()"
   ]
  },
  {
   "cell_type": "markdown",
   "metadata": {},
   "source": [
    "Variable _clf_ will contain all information learned by the classifier. To perform the learning step, we use the method _fit_:"
   ]
  },
  {
   "cell_type": "code",
   "execution_count": 8,
   "metadata": {},
   "outputs": [
    {
     "data": {
      "text/plain": [
       "DecisionTreeClassifier(class_weight=None, criterion='gini', max_depth=None,\n",
       "            max_features=None, max_leaf_nodes=None,\n",
       "            min_impurity_decrease=0.0, min_impurity_split=None,\n",
       "            min_samples_leaf=1, min_samples_split=2,\n",
       "            min_weight_fraction_leaf=0.0, presort=False, random_state=None,\n",
       "            splitter='best')"
      ]
     },
     "execution_count": 8,
     "metadata": {},
     "output_type": "execute_result"
    }
   ],
   "source": [
    "clf.fit( features, labels )"
   ]
  },
  {
   "cell_type": "markdown",
   "metadata": {},
   "source": [
    "To find the accuracy of this classifier, we can use the method _score_."
   ]
  },
  {
   "cell_type": "code",
   "execution_count": 9,
   "metadata": {},
   "outputs": [
    {
     "data": {
      "text/plain": [
       "1.0"
      ]
     },
     "execution_count": 9,
     "metadata": {},
     "output_type": "execute_result"
    }
   ],
   "source": [
    "clf.score( features, labels )"
   ]
  },
  {
   "cell_type": "markdown",
   "metadata": {},
   "source": [
    "That means that our classifier was able to perfectly reproduce all points."
   ]
  },
  {
   "cell_type": "code",
   "execution_count": 10,
   "metadata": {
    "collapsed": true
   },
   "outputs": [],
   "source": [
    "from sklearn.tree import export_graphviz\n",
    "? export_graphviz()"
   ]
  },
  {
   "cell_type": "code",
   "execution_count": 11,
   "metadata": {
    "collapsed": true
   },
   "outputs": [],
   "source": [
    "export_graphviz( clf, 'Graph_DecisionTree_testdataset.dat' )"
   ]
  },
  {
   "cell_type": "markdown",
   "metadata": {},
   "source": [
    "Feature ranking by Gini Importance"
   ]
  },
  {
   "cell_type": "code",
   "execution_count": 12,
   "metadata": {},
   "outputs": [
    {
     "data": {
      "text/plain": [
       "array([ 0.62943888,  0.37056112])"
      ]
     },
     "execution_count": 12,
     "metadata": {},
     "output_type": "execute_result"
    }
   ],
   "source": [
    "clf.feature_importances_"
   ]
  },
  {
   "cell_type": "markdown",
   "metadata": {},
   "source": [
    "Looking at the plot, we know that the point $P_1 = [-1,-1]$ should be of class 0 (zero), and the point $P_2 = [-1,4]$ should belong to class 1. Let's Check the classifier's prediction:"
   ]
  },
  {
   "cell_type": "code",
   "execution_count": 13,
   "metadata": {},
   "outputs": [
    {
     "name": "stdout",
     "output_type": "stream",
     "text": [
      "Prediction for P1:  [ 0.]\n",
      "Prediction for P2:  [ 1.]\n"
     ]
    }
   ],
   "source": [
    "P1 = np.array([[-1,-1]])\n",
    "P2 = np.array([[-1,4]])\n",
    "\n",
    "print(\"Prediction for P1: \", clf.predict(P1))\n",
    "print(\"Prediction for P2: \", clf.predict(P2))"
   ]
  },
  {
   "cell_type": "markdown",
   "metadata": {},
   "source": [
    "**Question:** Why did we use [[ and ]] in the previous cell?\n",
    "\n",
    "You can also check the probability that a given point belongs to a class:"
   ]
  },
  {
   "cell_type": "code",
   "execution_count": 14,
   "metadata": {},
   "outputs": [
    {
     "name": "stdout",
     "output_type": "stream",
     "text": [
      "Probability for P1:  [[ 1.  0.]]\n",
      "Probability for P2:  [[ 0.  1.]]\n"
     ]
    }
   ],
   "source": [
    "print(\"Probability for P1: \", clf.predict_proba(P1))\n",
    "print(\"Probability for P2: \", clf.predict_proba(P2))"
   ]
  },
  {
   "cell_type": "markdown",
   "metadata": {},
   "source": [
    "Next, let's investigate the \"decision boundaries\" -- i.e. the boundary between classes"
   ]
  },
  {
   "cell_type": "code",
   "execution_count": 15,
   "metadata": {},
   "outputs": [
    {
     "data": {
      "image/png": "[encoded data removed]",
      "text/plain": [
       "<matplotlib.figure.Figure at 0x111650470>"
      ]
     },
     "metadata": {},
     "output_type": "display_data"
    }
   ],
   "source": [
    "from matplotlib import mlab, cm\n",
    "\n",
    "delta = 0.5\n",
    "x     = np.arange(-2.0, 5.001, delta)\n",
    "y     = np.arange(-2.0, 5.001, delta)\n",
    "\n",
    "X, Y = np.meshgrid(x, y)\n",
    "Z    = clf.predict( np.c_[X.ravel(), Y.ravel()] )\n",
    "Z    = Z.reshape( X.shape )\n",
    "\n",
    "cset1 = pl.contourf( X, Y, Z, cmap=pl.get_cmap('jet'))\n",
    "pl.xlim(-2, 5)\n",
    "pl.ylim(-2, 5)\n",
    "\n",
    "pl.show()"
   ]
  },
  {
   "cell_type": "code",
   "execution_count": 16,
   "metadata": {},
   "outputs": [
    {
     "data": {
      "image/png": "[encoded data removed]",
      "text/plain": [
       "<matplotlib.figure.Figure at 0x1a1e9881d0>"
      ]
     },
     "metadata": {},
     "output_type": "display_data"
    }
   ],
   "source": [
    "from matplotlib import mlab, cm\n",
    "\n",
    "delta = 0.01\n",
    "x     = np.arange(-2.0, 5.001, delta)\n",
    "y     = np.arange(-2.0, 5.001, delta)\n",
    "\n",
    "X, Y = np.meshgrid(x, y)\n",
    "Z    = clf.predict( np.c_[X.ravel(), Y.ravel()] )\n",
    "Z    = Z.reshape( X.shape )\n",
    "\n",
    "cset1 = pl.contourf( X, Y, Z, cmap=pl.get_cmap('jet'))\n",
    "pl.xlim(-2, 5)\n",
    "pl.ylim(-2, 5)\n",
    "\n",
    "pl.show()"
   ]
  },
  {
   "cell_type": "markdown",
   "metadata": {},
   "source": [
    "Let's use some of the meta-parameters available in SK-learn to modify the learning process."
   ]
  },
  {
   "cell_type": "code",
   "execution_count": 17,
   "metadata": {},
   "outputs": [
    {
     "name": "stdout",
     "output_type": "stream",
     "text": [
      "0.966\n"
     ]
    }
   ],
   "source": [
    "clf = DecisionTreeClassifier( max_depth = 5 )\n",
    "clf.fit( features, labels )\n",
    "print( clf.score( features, labels ) )\n",
    "export_graphviz( clf, 'Graph_DecisionTree_testdataset_2.dat' )"
   ]
  },
  {
   "cell_type": "code",
   "execution_count": 18,
   "metadata": {},
   "outputs": [
    {
     "data": {
      "image/png": "[encoded data removed]",
      "text/plain": [
       "<matplotlib.figure.Figure at 0x11862f208>"
      ]
     },
     "metadata": {},
     "output_type": "display_data"
    }
   ],
   "source": [
    "from matplotlib import mlab, cm\n",
    "\n",
    "delta = 0.01\n",
    "x     = np.arange(-2.0, 5.001, delta)\n",
    "y     = np.arange(-2.0, 5.001, delta)\n",
    "\n",
    "X, Y = np.meshgrid(x, y)\n",
    "Z    = clf.predict( np.c_[X.ravel(), Y.ravel()] )\n",
    "Z    = Z.reshape( X.shape )\n",
    "\n",
    "cset1 = pl.contourf( X, Y, Z, cmap=pl.get_cmap('jet'))\n",
    "pl.xlim(-2, 5)\n",
    "pl.ylim(-2, 5)\n",
    "\n",
    "pl.show()"
   ]
  },
  {
   "cell_type": "markdown",
   "metadata": {},
   "source": [
    "# Random forests\n",
    "\n",
    "Random forests are among the most important models in Machine Learning, especially for applications that demand low latency."
   ]
  },
  {
   "cell_type": "code",
   "execution_count": 19,
   "metadata": {
    "collapsed": true
   },
   "outputs": [],
   "source": [
    "from sklearn.ensemble import RandomForestClassifier"
   ]
  },
  {
   "cell_type": "code",
   "execution_count": 20,
   "metadata": {},
   "outputs": [
    {
     "data": {
      "text/plain": [
       "RandomForestClassifier(bootstrap=True, class_weight=None, criterion='gini',\n",
       "            max_depth=None, max_features='auto', max_leaf_nodes=None,\n",
       "            min_impurity_decrease=0.0, min_impurity_split=None,\n",
       "            min_samples_leaf=1, min_samples_split=2,\n",
       "            min_weight_fraction_leaf=0.0, n_estimators=20, n_jobs=1,\n",
       "            oob_score=True, random_state=None, verbose=0, warm_start=False)"
      ]
     },
     "execution_count": 20,
     "metadata": {},
     "output_type": "execute_result"
    }
   ],
   "source": [
    "clf = RandomForestClassifier( n_estimators = 20, oob_score = True )\n",
    "clf.fit( features, labels )"
   ]
  },
  {
   "cell_type": "code",
   "execution_count": 21,
   "metadata": {},
   "outputs": [
    {
     "data": {
      "text/plain": [
       "0.998"
      ]
     },
     "execution_count": 21,
     "metadata": {},
     "output_type": "execute_result"
    }
   ],
   "source": [
    "clf.score(features, labels)"
   ]
  },
  {
   "cell_type": "code",
   "execution_count": 22,
   "metadata": {},
   "outputs": [
    {
     "data": {
      "text/plain": [
       "array([ 0.42553141,  0.57446859])"
      ]
     },
     "execution_count": 22,
     "metadata": {},
     "output_type": "execute_result"
    }
   ],
   "source": [
    "clf.feature_importances_"
   ]
  },
  {
   "cell_type": "code",
   "execution_count": 23,
   "metadata": {},
   "outputs": [
    {
     "name": "stdout",
     "output_type": "stream",
     "text": [
      "Prediction for P1:  [ 0.]\n",
      "Prediction for P2:  [ 1.]\n"
     ]
    }
   ],
   "source": [
    "print(\"Prediction for P1: \", clf.predict(P1))\n",
    "print(\"Prediction for P2: \", clf.predict(P2))"
   ]
  },
  {
   "cell_type": "code",
   "execution_count": 24,
   "metadata": {},
   "outputs": [
    {
     "data": {
      "image/png": "[encoded data removed]",
      "text/plain": [
       "<matplotlib.figure.Figure at 0x1a215947b8>"
      ]
     },
     "metadata": {},
     "output_type": "display_data"
    }
   ],
   "source": [
    "from matplotlib import mlab, cm\n",
    "\n",
    "delta = 0.01\n",
    "x     = np.arange(-2.0, 5.001, delta)\n",
    "y     = np.arange(-2.0, 5.001, delta)\n",
    "\n",
    "X, Y = np.meshgrid(x, y)\n",
    "Z    = clf.predict( np.c_[X.ravel(), Y.ravel()] )\n",
    "Z    = Z.reshape( X.shape )\n",
    "\n",
    "cset1 = pl.contourf( X, Y, Z, cmap=pl.get_cmap('jet'))\n",
    "pl.xlim(-2, 5)\n",
    "pl.ylim(-2, 5)\n",
    "\n",
    "pl.show()"
   ]
  },
  {
   "cell_type": "code",
   "execution_count": 25,
   "metadata": {},
   "outputs": [
    {
     "data": {
      "text/plain": [
       "0.998"
      ]
     },
     "execution_count": 25,
     "metadata": {},
     "output_type": "execute_result"
    }
   ],
   "source": [
    "from sklearn.metrics import accuracy_score\n",
    "accuracy_score(labels, clf.predict(features))"
   ]
  },
  {
   "cell_type": "code",
   "execution_count": 26,
   "metadata": {},
   "outputs": [
    {
     "name": "stdout",
     "output_type": "stream",
     "text": [
      "Precision:  1.0\n",
      "Recall:  0.996\n",
      "F1-score:  0.997995991984\n"
     ]
    }
   ],
   "source": [
    "from sklearn.metrics import precision_score, recall_score, f1_score\n",
    "print(\"Precision: \", precision_score(labels, clf.predict(features)))\n",
    "print(\"Recall: \", recall_score(labels, clf.predict(features)))\n",
    "print(\"F1-score: \", f1_score(labels, clf.predict(features)))"
   ]
  },
  {
   "cell_type": "markdown",
   "metadata": {},
   "source": [
    "Because random forests are ensembles of decision trees, there is a way to accesss the trees and inspect them closely. To do so, use the attribute ```estimators_``` of your model."
   ]
  },
  {
   "cell_type": "code",
   "execution_count": 27,
   "metadata": {},
   "outputs": [
    {
     "data": {
      "text/plain": [
       "DecisionTreeClassifier(class_weight=None, criterion='gini', max_depth=None,\n",
       "            max_features='auto', max_leaf_nodes=None,\n",
       "            min_impurity_decrease=0.0, min_impurity_split=None,\n",
       "            min_samples_leaf=1, min_samples_split=2,\n",
       "            min_weight_fraction_leaf=0.0, presort=False,\n",
       "            random_state=1483546014, splitter='best')"
      ]
     },
     "execution_count": 27,
     "metadata": {},
     "output_type": "execute_result"
    }
   ],
   "source": [
    "clf.estimators_[0]"
   ]
  },
  {
   "cell_type": "markdown",
   "metadata": {},
   "source": [
    "Let's check how to visualize trees in the random forest model we just created."
   ]
  },
  {
   "cell_type": "code",
   "execution_count": 28,
   "metadata": {},
   "outputs": [],
   "source": [
    "export_graphviz( clf.estimators_[0], \n",
    "                'Graph_DecisionTree_testdataset_RF0.dat' )"
   ]
  },
  {
   "cell_type": "markdown",
   "metadata": {
    "collapsed": true
   },
   "source": [
    "## AdaBoost"
   ]
  },
  {
   "cell_type": "code",
   "execution_count": 29,
   "metadata": {
    "collapsed": true
   },
   "outputs": [],
   "source": [
    "from sklearn.ensemble import GradientBoostingClassifier"
   ]
  },
  {
   "cell_type": "code",
   "execution_count": 30,
   "metadata": {},
   "outputs": [
    {
     "data": {
      "text/plain": [
       "1.0"
      ]
     },
     "execution_count": 30,
     "metadata": {},
     "output_type": "execute_result"
    }
   ],
   "source": [
    "clf = GradientBoostingClassifier(learning_rate=1.5, n_estimators=100)\n",
    "clf.fit( features, labels )\n",
    "clf.score(features, labels)"
   ]
  },
  {
   "cell_type": "code",
   "execution_count": 31,
   "metadata": {},
   "outputs": [
    {
     "data": {
      "text/plain": [
       "array([ 0.13499135,  0.13500865])"
      ]
     },
     "execution_count": 31,
     "metadata": {},
     "output_type": "execute_result"
    }
   ],
   "source": [
    "clf.feature_importances_"
   ]
  },
  {
   "cell_type": "code",
   "execution_count": 32,
   "metadata": {},
   "outputs": [
    {
     "name": "stdout",
     "output_type": "stream",
     "text": [
      "Prediction for P1:  [ 0.]\n",
      "Prediction for P2:  [ 1.]\n"
     ]
    }
   ],
   "source": [
    "print(\"Prediction for P1: \", clf.predict(P1))\n",
    "print(\"Prediction for P2: \", clf.predict(P2))"
   ]
  },
  {
   "cell_type": "code",
   "execution_count": 33,
   "metadata": {},
   "outputs": [
    {
     "data": {
      "image/png": "[encoded data removed]",
      "text/plain": [
       "<matplotlib.figure.Figure at 0x1a22c13208>"
      ]
     },
     "metadata": {},
     "output_type": "display_data"
    }
   ],
   "source": [
    "from matplotlib import mlab, cm\n",
    "\n",
    "delta = 0.01\n",
    "x     = np.arange(-2.0, 5.001, delta)\n",
    "y     = np.arange(-2.0, 5.001, delta)\n",
    "\n",
    "X, Y = np.meshgrid(x, y)\n",
    "Z    = clf.predict( np.c_[X.ravel(), Y.ravel()] )\n",
    "Z    = Z.reshape( X.shape )\n",
    "\n",
    "cset1 = pl.contourf( X, Y, Z, cmap=pl.get_cmap('jet'))\n",
    "pl.xlim(-2, 5)\n",
    "pl.ylim(-2, 5)\n",
    "\n",
    "pl.xlabel('X1')\n",
    "pl.ylabel('X2')\n",
    "\n",
    "pl.show()"
   ]
  },
  {
   "cell_type": "markdown",
   "metadata": {},
   "source": [
    "# Performance measures\n",
    "\n",
    "Let's evaluate the various measures of performance of our Random Forest a see how they change as a function of the number of decision trees used."
   ]
  },
  {
   "cell_type": "code",
   "execution_count": 34,
   "metadata": {},
   "outputs": [
    {
     "name": "stdout",
     "output_type": "stream",
     "text": [
      "Accuracy:  0.956\n",
      "Precision:  0.991379310345\n",
      "Recall:  0.92\n",
      "F1-score:  0.954356846473\n"
     ]
    }
   ],
   "source": [
    "clf = RandomForestClassifier( n_estimators = 2 )\n",
    "clf.fit( features, labels )\n",
    "\n",
    "print(\"Accuracy: \", accuracy_score(labels, clf.predict(features)))\n",
    "print(\"Precision: \", precision_score(labels, clf.predict(features)))\n",
    "print(\"Recall: \", recall_score(labels, clf.predict(features)))\n",
    "print(\"F1-score: \", f1_score(labels, clf.predict(features)))"
   ]
  },
  {
   "cell_type": "code",
   "execution_count": 35,
   "metadata": {},
   "outputs": [
    {
     "name": "stdout",
     "output_type": "stream",
     "text": [
      "Accuracy:  0.998\n",
      "Precision:  1.0\n",
      "Recall:  0.996\n",
      "F1-score:  0.997995991984\n"
     ]
    }
   ],
   "source": [
    "clf = RandomForestClassifier( n_estimators = 5 )\n",
    "clf.fit( features, labels )\n",
    "\n",
    "print(\"Accuracy: \", accuracy_score(labels, clf.predict(features)))\n",
    "print(\"Precision: \", precision_score(labels, clf.predict(features)))\n",
    "print(\"Recall: \", recall_score(labels, clf.predict(features)))\n",
    "print(\"F1-score: \", f1_score(labels, clf.predict(features)))"
   ]
  },
  {
   "cell_type": "markdown",
   "metadata": {},
   "source": [
    "# Support Vector Machines\n",
    "\n",
    "Support Vector Machines (or SVMs) were for a long time the most widely used model in the Machine Learning community."
   ]
  },
  {
   "cell_type": "code",
   "execution_count": 36,
   "metadata": {
    "collapsed": true
   },
   "outputs": [],
   "source": [
    "from sklearn.svm import SVC"
   ]
  },
  {
   "cell_type": "code",
   "execution_count": 37,
   "metadata": {},
   "outputs": [
    {
     "name": "stdout",
     "output_type": "stream",
     "text": [
      "0.96\n"
     ]
    }
   ],
   "source": [
    "clf = SVC()\n",
    "clf.fit( features, labels )\n",
    "print( clf.score( features, labels ) )"
   ]
  },
  {
   "cell_type": "code",
   "execution_count": 38,
   "metadata": {},
   "outputs": [
    {
     "name": "stdout",
     "output_type": "stream",
     "text": [
      "1.0\n"
     ]
    }
   ],
   "source": [
    "clf = SVC(gamma=10000.)\n",
    "clf.fit( features, labels )\n",
    "print( clf.score( features, labels ) )"
   ]
  },
  {
   "cell_type": "markdown",
   "metadata": {},
   "source": [
    "Let's write a function that automatically draws the decision boundaries for us (this avoids too much replication of code)."
   ]
  },
  {
   "cell_type": "code",
   "execution_count": 39,
   "metadata": {
    "collapsed": true
   },
   "outputs": [],
   "source": [
    "def plotContours(clf, figname, delta = 0.01):\n",
    "    \n",
    "    x     = np.arange(-2.0, 5.001, delta)\n",
    "    y     = np.arange(-2.0, 5.001, delta)\n",
    "\n",
    "    X, Y = np.meshgrid(x, y)\n",
    "    Z    = clf.predict( np.c_[X.ravel(), Y.ravel()] )\n",
    "    Z    = Z.reshape( X.shape )\n",
    "\n",
    "    cset1 = pl.contourf( X, Y, Z, cmap=pl.get_cmap('jet'))\n",
    "    pl.xlim(-2, 5)\n",
    "    pl.ylim(-2, 5)\n",
    "\n",
    "    pl.xlabel('X1')\n",
    "    pl.ylabel('X2')\n",
    "\n",
    "    pl.tight_layout()\n",
    "    pl.savefig(figname, dpi=500)\n",
    "    pl.show()\n",
    "    \n",
    "    return"
   ]
  },
  {
   "cell_type": "code",
   "execution_count": 40,
   "metadata": {},
   "outputs": [
    {
     "data": {
      "image/png": "[encoded data removed]",
      "text/plain": [
       "<matplotlib.figure.Figure at 0x1a22c3a080>"
      ]
     },
     "metadata": {},
     "output_type": "display_data"
    }
   ],
   "source": [
    "clf = SVC()\n",
    "clf.fit( features, labels )\n",
    "plotContours(clf, 'SVC_decisionboundary1.png')"
   ]
  },
  {
   "cell_type": "code",
   "execution_count": 41,
   "metadata": {},
   "outputs": [
    {
     "data": {
      "image/png": "[encoded data removed]",
      "text/plain": [
       "<matplotlib.figure.Figure at 0x1a22c23d68>"
      ]
     },
     "metadata": {},
     "output_type": "display_data"
    }
   ],
   "source": [
    "clf = SVC( C = 1000., gamma = 100. )\n",
    "clf.fit( features, labels )\n",
    "plotContours(clf, 'SVC_decisionboundaryC100g100.png')"
   ]
  },
  {
   "cell_type": "code",
   "execution_count": 42,
   "metadata": {},
   "outputs": [
    {
     "data": {
      "image/png": "[encoded data removed]",
      "text/plain": [
       "<matplotlib.figure.Figure at 0x1a24551668>"
      ]
     },
     "metadata": {},
     "output_type": "display_data"
    }
   ],
   "source": [
    "clf = SVC( C = 1000 )\n",
    "clf.fit( features, labels )\n",
    "plotContours(clf, 'SVC_decisionboundary_C1000.png')"
   ]
  },
  {
   "cell_type": "code",
   "execution_count": 43,
   "metadata": {},
   "outputs": [
    {
     "data": {
      "image/png": "[encoded data removed]",
      "text/plain": [
       "<matplotlib.figure.Figure at 0x1a25738860>"
      ]
     },
     "metadata": {},
     "output_type": "display_data"
    }
   ],
   "source": [
    "clf = SVC( C = 0.001 )\n",
    "clf.fit( features, labels )\n",
    "plotContours(clf, 'SVC_decisionboundaryC001.png')"
   ]
  },
  {
   "cell_type": "code",
   "execution_count": 44,
   "metadata": {},
   "outputs": [
    {
     "data": {
      "image/png": "[encoded data removed]",
      "text/plain": [
       "<matplotlib.figure.Figure at 0x1a24229550>"
      ]
     },
     "metadata": {},
     "output_type": "display_data"
    }
   ],
   "source": [
    "clf = SVC( C = 0.001, gamma = 100. )\n",
    "clf.fit( features, labels )\n",
    "plotContours(clf, 'SVC_decisionboundaryC001g100.png')"
   ]
  },
  {
   "cell_type": "code",
   "execution_count": 45,
   "metadata": {},
   "outputs": [
    {
     "data": {
      "image/png": "[encoded data removed]",
      "text/plain": [
       "<matplotlib.figure.Figure at 0x1a21584320>"
      ]
     },
     "metadata": {},
     "output_type": "display_data"
    }
   ],
   "source": [
    "clf = SVC( C = 0.001, gamma = 1. )\n",
    "clf.fit( features, labels )\n",
    "plotContours(clf, 'SVC_decisionboundaryC001g1.png')"
   ]
  },
  {
   "cell_type": "code",
   "execution_count": 46,
   "metadata": {},
   "outputs": [
    {
     "data": {
      "image/png": "[encoded data removed]",
      "text/plain": [
       "<matplotlib.figure.Figure at 0x1a24229b70>"
      ]
     },
     "metadata": {},
     "output_type": "display_data"
    }
   ],
   "source": [
    "clf = SVC( C = 0.001, gamma = 0.1 )\n",
    "clf.fit( features, labels )\n",
    "plotContours(clf, 'SVC_decisionboundaryC001g01.png')"
   ]
  },
  {
   "cell_type": "code",
   "execution_count": 47,
   "metadata": {},
   "outputs": [
    {
     "data": {
      "image/png": "[encoded data removed]",
      "text/plain": [
       "<matplotlib.figure.Figure at 0x11ba287f0>"
      ]
     },
     "metadata": {},
     "output_type": "display_data"
    }
   ],
   "source": [
    "clf = SVC( C = 0.001, gamma = 0.001 )\n",
    "clf.fit( features, labels )\n",
    "plotContours(clf, 'SVC_decisionboundary1.png')"
   ]
  },
  {
   "cell_type": "code",
   "execution_count": 48,
   "metadata": {},
   "outputs": [
    {
     "name": "stdout",
     "output_type": "stream",
     "text": [
      "Accuracy:  0.96\n",
      "Precision:  0.963709677419\n",
      "Recall:  0.956\n",
      "F1-score:  0.95983935743\n"
     ]
    }
   ],
   "source": [
    "clf = SVC( C = 0.001, gamma = 0.1 )\n",
    "clf.fit( features, labels )\n",
    "\n",
    "print(\"Accuracy: \", accuracy_score(labels, clf.predict(features)))\n",
    "print(\"Precision: \", precision_score(labels, clf.predict(features)))\n",
    "print(\"Recall: \", recall_score(labels, clf.predict(features)))\n",
    "print(\"F1-score: \", f1_score(labels, clf.predict(features)))"
   ]
  },
  {
   "cell_type": "markdown",
   "metadata": {},
   "source": [
    "# Train-Test split"
   ]
  },
  {
   "cell_type": "markdown",
   "metadata": {},
   "source": [
    "Next, we will "
   ]
  },
  {
   "cell_type": "code",
   "execution_count": 49,
   "metadata": {
    "collapsed": true
   },
   "outputs": [],
   "source": [
    "from sklearn.model_selection import train_test_split\n",
    "\n",
    "X_train, X_test, Y_train, Y_test = train_test_split( features, labels, test_size=0.33)"
   ]
  },
  {
   "cell_type": "code",
   "execution_count": 50,
   "metadata": {},
   "outputs": [
    {
     "name": "stdout",
     "output_type": "stream",
     "text": [
      "Shape of the train dataset:  (335, 2)\n",
      "Shape of the test dataset:  (165, 2)\n"
     ]
    }
   ],
   "source": [
    "print(\"Shape of the train dataset: \", X_train.shape)\n",
    "print(\"Shape of the test dataset: \", X_test.shape)"
   ]
  },
  {
   "cell_type": "code",
   "execution_count": 51,
   "metadata": {},
   "outputs": [
    {
     "data": {
      "text/plain": [
       "0.48484848484848486"
      ]
     },
     "execution_count": 51,
     "metadata": {},
     "output_type": "execute_result"
    }
   ],
   "source": [
    "clf = SVC( C = 0.001, gamma = 10. )\n",
    "clf.fit( X_train, Y_train )\n",
    "clf.score(X_test, Y_test)"
   ]
  },
  {
   "cell_type": "code",
   "execution_count": 52,
   "metadata": {},
   "outputs": [
    {
     "data": {
      "image/png": "[encoded data removed]",
      "text/plain": [
       "<matplotlib.figure.Figure at 0x1a22886f60>"
      ]
     },
     "metadata": {},
     "output_type": "display_data"
    }
   ],
   "source": [
    "setGammas = np.array( [0.003,0.01,0.03,0.1,0.3,1.0,3.,10.,30.,100.,300] )\n",
    "\n",
    "accuracies = []\n",
    "for gamma in setGammas:\n",
    "    clf = SVC( C = 1., gamma = gamma )\n",
    "    clf.fit( X_train, Y_train )\n",
    "    accuracies.append( clf.score(X_test, Y_test) )\n",
    "\n",
    "pl.plot(setGammas, accuracies)\n",
    "\n",
    "pl.ylabel(r'Accuracy')\n",
    "pl.xlabel(r'$\\gamma$')\n",
    "pl.xscale('log')\n",
    "\n",
    "pl.savefig('SVM_accuracyvsgamma_syntheticdata.png', dpi=500)\n",
    "pl.show()"
   ]
  },
  {
   "cell_type": "markdown",
   "metadata": {},
   "source": [
    "Because there is the splitting is performed at random, to properly estimate accuracy you should perform the train-test splitting several times."
   ]
  },
  {
   "cell_type": "code",
   "execution_count": 53,
   "metadata": {},
   "outputs": [
    {
     "data": {
      "image/png": "[encoded data removed]",
      "text/plain": [
       "<matplotlib.figure.Figure at 0x1a22886e80>"
      ]
     },
     "metadata": {},
     "output_type": "display_data"
    }
   ],
   "source": [
    "numRepetitions = 200\n",
    "setGammas = np.array( [0.003,0.01,0.03,0.1,0.3,1.0,3.,10.,30.,100.,300] )\n",
    "\n",
    "accuracies = np.zeros( setGammas.shape )\n",
    "\n",
    "for j in range(numRepetitions):\n",
    "    k = 0\n",
    "    for gamma in setGammas:\n",
    "        clf = SVC( C = 1., gamma = gamma )\n",
    "        accuracies[k] += clf.fit( X_train, Y_train ).score(X_test, Y_test)\n",
    "        \n",
    "        k += 1\n",
    "\n",
    "accuracies = accuracies / numRepetitions\n",
    "pl.plot(setGammas, accuracies)\n",
    "\n",
    "pl.ylabel(r'Accuracy')\n",
    "pl.xlabel(r'$\\gamma$')\n",
    "pl.xscale('log')\n",
    "\n",
    "pl.savefig('SVM_accuracyvsgamma_syntheticdata.png', dpi=500)\n",
    "pl.show()"
   ]
  },
  {
   "cell_type": "markdown",
   "metadata": {},
   "source": [
    "Estimating the accuracy"
   ]
  },
  {
   "cell_type": "code",
   "execution_count": 54,
   "metadata": {},
   "outputs": [
    {
     "name": "stdout",
     "output_type": "stream",
     "text": [
      "Average accuracy (gamma = 0.5):  0.951454545455\n",
      "Average accuracy (gamma = 100.):  0.805212121212\n"
     ]
    }
   ],
   "source": [
    "numRepetitions = 100\n",
    "accuracies = np.zeros( numRepetitions )\n",
    "\n",
    "for j in range(numRepetitions):\n",
    "    X_train, X_test, Y_train, Y_test = train_test_split( features, labels, \n",
    "                                                            test_size=0.33)\n",
    "    clf = SVC( C = 1., gamma = 0.5 )\n",
    "    clf.fit( X_train, Y_train )\n",
    "    accuracies[j] = clf.score(X_test, Y_test)\n",
    "\n",
    "print(r\"Average accuracy (gamma = 0.5): \", accuracies.mean() )\n",
    "\n",
    "\n",
    "for j in range(numRepetitions):\n",
    "    X_train, X_test, Y_train, Y_test = train_test_split( features, labels,\n",
    "                                                            test_size=0.33)\n",
    "    clf = SVC( C = 1., gamma = 100. )\n",
    "    clf.fit( X_train, Y_train )\n",
    "    accuracies[j] = clf.score(X_test, Y_test)\n",
    "\n",
    "print(\"Average accuracy (gamma = 100.): \", accuracies.mean() )"
   ]
  },
  {
   "cell_type": "markdown",
   "metadata": {},
   "source": [
    "# K-fold cross validation"
   ]
  },
  {
   "cell_type": "code",
   "execution_count": 55,
   "metadata": {
    "collapsed": true
   },
   "outputs": [],
   "source": [
    "from sklearn.model_selection import KFold"
   ]
  },
  {
   "cell_type": "code",
   "execution_count": 56,
   "metadata": {},
   "outputs": [
    {
     "name": "stdout",
     "output_type": "stream",
     "text": [
      "0.824\n",
      "0.84\n",
      "0.816\n",
      "0.776\n"
     ]
    }
   ],
   "source": [
    "kf = KFold(n_splits=4)\n",
    "\n",
    "for train_index, test_index in kf.split( features ):\n",
    "    X_train = features[train_index]\n",
    "    X_test  = features[test_index]\n",
    "    Y_train = labels[train_index]\n",
    "    Y_test  = labels[test_index]\n",
    "    \n",
    "    clf = SVC( C = 1., gamma = 100. )\n",
    "    clf.fit( X_train, Y_train )\n",
    "    print( clf.score(X_test, Y_test) )"
   ]
  },
  {
   "cell_type": "code",
   "execution_count": 57,
   "metadata": {},
   "outputs": [
    {
     "name": "stdout",
     "output_type": "stream",
     "text": [
      "0.936\n",
      "0.96\n",
      "0.936\n",
      "0.96\n"
     ]
    }
   ],
   "source": [
    "kf = KFold(n_splits=4)\n",
    "\n",
    "for train_index, test_index in kf.split(features):\n",
    "    X_train = features[train_index]\n",
    "    X_test  = features[test_index]\n",
    "    Y_train = labels[train_index]\n",
    "    Y_test  = labels[test_index]\n",
    "    \n",
    "    clf = SVC( C = 1., gamma = 0.5 )\n",
    "    clf.fit( X_train, Y_train )\n",
    "    print( clf.score(X_test, Y_test) )"
   ]
  },
  {
   "cell_type": "markdown",
   "metadata": {},
   "source": [
    " "
   ]
  },
  {
   "cell_type": "markdown",
   "metadata": {},
   "source": [
    "<br />\n",
    "<br />\n",
    "\n",
    "# After-the-class Practicing\n",
    "\n",
    "<br />\n",
    "\n",
    "Next, I show possible solutions to the proposed practice at the end of our slides. It is highly recommended that you try the exercises by yourself first."
   ]
  },
  {
   "cell_type": "markdown",
   "metadata": {},
   "source": [
    "### Wisconsing Breast Cancer dataset\n",
    "\n",
    "As an exercise, let's try and reproduce the same analysis in the same dataset we explored yesterday!"
   ]
  },
  {
   "cell_type": "code",
   "execution_count": 58,
   "metadata": {},
   "outputs": [
    {
     "name": "stdout",
     "output_type": "stream",
     "text": [
      "Num samples x Num Features:  (569, 30)\n",
      "Num samples x Num Features:  (569,)\n"
     ]
    }
   ],
   "source": [
    "from sklearn.datasets import load_breast_cancer\n",
    "bcancer = load_breast_cancer()\n",
    "\n",
    "print(\"Num samples x Num Features: \", bcancer.data.shape)\n",
    "print(\"Num samples x Num Features: \", bcancer.target.shape)"
   ]
  },
  {
   "cell_type": "code",
   "execution_count": 59,
   "metadata": {},
   "outputs": [
    {
     "data": {
      "text/plain": [
       "RandomForestClassifier(bootstrap=True, class_weight=None, criterion='gini',\n",
       "            max_depth=None, max_features='auto', max_leaf_nodes=None,\n",
       "            min_impurity_decrease=0.0, min_impurity_split=None,\n",
       "            min_samples_leaf=1, min_samples_split=2,\n",
       "            min_weight_fraction_leaf=0.0, n_estimators=10, n_jobs=1,\n",
       "            oob_score=False, random_state=None, verbose=0,\n",
       "            warm_start=False)"
      ]
     },
     "execution_count": 59,
     "metadata": {},
     "output_type": "execute_result"
    }
   ],
   "source": [
    "clf_bcancer = RandomForestClassifier()\n",
    "clf_bcancer.fit( bcancer.data, bcancer.target )"
   ]
  },
  {
   "cell_type": "code",
   "execution_count": 60,
   "metadata": {},
   "outputs": [
    {
     "data": {
      "text/plain": [
       "0.99824253075571179"
      ]
     },
     "execution_count": 60,
     "metadata": {},
     "output_type": "execute_result"
    }
   ],
   "source": [
    "clf_bcancer.score( bcancer.data, bcancer.target )"
   ]
  },
  {
   "cell_type": "code",
   "execution_count": 61,
   "metadata": {},
   "outputs": [
    {
     "data": {
      "text/plain": [
       "array([ 0.05424275,  0.01142129,  0.06415285,  0.00917831,  0.0012374 ,\n",
       "        0.00361596,  0.00297916,  0.15229121,  0.00191946,  0.00391896,\n",
       "        0.00496564,  0.0037959 ,  0.00622814,  0.0137341 ,  0.0007702 ,\n",
       "        0.00617297,  0.03032902,  0.00137773,  0.00535446,  0.00103325,\n",
       "        0.1000764 ,  0.0117826 ,  0.16776254,  0.10211183,  0.01277426,\n",
       "        0.01715367,  0.03055517,  0.17240244,  0.00145641,  0.00520593])"
      ]
     },
     "execution_count": 61,
     "metadata": {},
     "output_type": "execute_result"
    }
   ],
   "source": [
    "clf_bcancer.feature_importances_"
   ]
  },
  {
   "cell_type": "markdown",
   "metadata": {},
   "source": [
    "### Screening the $\\alpha$ and $C$ meta-parameters"
   ]
  },
  {
   "cell_type": "code",
   "execution_count": 62,
   "metadata": {},
   "outputs": [
    {
     "data": {
      "image/png": "[encoded data removed]",
      "text/plain": [
       "<matplotlib.figure.Figure at 0x1a24568d30>"
      ]
     },
     "metadata": {},
     "output_type": "display_data"
    }
   ],
   "source": [
    "setGammas = np.linspace(0.005,10.0,50)\n",
    "\n",
    "accuracies = []\n",
    "for gamma in setGammas:\n",
    "    clf = SVC( C = 0.001, gamma = gamma )\n",
    "    accuracies.append( clf.fit( features, labels ).score(features, labels) )\n",
    "\n",
    "pl.plot(setGammas, accuracies)\n",
    "\n",
    "pl.ylabel(r'Accuracy')\n",
    "pl.xlabel(r'$\\gamma$')\n",
    "pl.savefig('SVM_accuracyvsgamma.png', dpi=500)\n",
    "pl.show()"
   ]
  },
  {
   "cell_type": "markdown",
   "metadata": {},
   "source": [
    "## Banana dataset"
   ]
  },
  {
   "cell_type": "code",
   "execution_count": 63,
   "metadata": {},
   "outputs": [
    {
     "name": "stdout",
     "output_type": "stream",
     "text": [
      "Shape of the bdataset:  (300, 3)\n"
     ]
    }
   ],
   "source": [
    "bdataset = np.loadtxt('banana_dataset.csv', delimiter=',')\n",
    "print(\"Shape of the bdataset: \", bdataset.shape )"
   ]
  },
  {
   "cell_type": "code",
   "execution_count": 64,
   "metadata": {
    "collapsed": true
   },
   "outputs": [],
   "source": [
    "bfeat = bdataset[:,1:]\n",
    "blabl = bdataset[:,0]"
   ]
  },
  {
   "cell_type": "code",
   "execution_count": 65,
   "metadata": {},
   "outputs": [
    {
     "data": {
      "text/plain": [
       "0.53000000000000003"
      ]
     },
     "execution_count": 65,
     "metadata": {},
     "output_type": "execute_result"
    }
   ],
   "source": [
    "clf = SVC( C = 0.001, gamma = gamma )\n",
    "clf.fit( bfeat, blabl )\n",
    "clf.score(bfeat, blabl)"
   ]
  },
  {
   "cell_type": "code",
   "execution_count": 66,
   "metadata": {},
   "outputs": [
    {
     "data": {
      "image/png": "[encoded data removed]",
      "text/plain": [
       "<matplotlib.figure.Figure at 0x11ba47630>"
      ]
     },
     "metadata": {},
     "output_type": "display_data"
    }
   ],
   "source": [
    "setGammas = np.linspace(0.005,10.0,50)\n",
    "\n",
    "accuracies = []\n",
    "for gamma in setGammas:\n",
    "    clf = SVC( C = 10., gamma = gamma )\n",
    "    accuracies.append( clf.fit( bfeat, blabl ).score(bfeat, blabl) )\n",
    "\n",
    "pl.plot(setGammas, accuracies)\n",
    "\n",
    "pl.ylabel(r'Accuracy')\n",
    "pl.xlabel(r'$\\gamma$')\n",
    "pl.savefig('SVM_accuracyvsgamma.png', dpi=500)\n",
    "pl.show()"
   ]
  },
  {
   "cell_type": "code",
   "execution_count": 67,
   "metadata": {},
   "outputs": [
    {
     "data": {
      "image/png": "[encoded data removed]",
      "text/plain": [
       "<matplotlib.figure.Figure at 0x1a1e963390>"
      ]
     },
     "metadata": {},
     "output_type": "display_data"
    }
   ],
   "source": [
    "clf = SVC( C = 10., gamma = 10 )\n",
    "clf.fit( bfeat, blabl )\n",
    "plotContours(clf, 'SVC_decbound_bdataset1.png')"
   ]
  },
  {
   "cell_type": "code",
   "execution_count": 68,
   "metadata": {},
   "outputs": [
    {
     "data": {
      "image/png": "[encoded data removed]",
      "text/plain": [
       "<matplotlib.figure.Figure at 0x1a1ea0de10>"
      ]
     },
     "metadata": {},
     "output_type": "display_data"
    }
   ],
   "source": [
    "clf = SVC( C = 10., gamma = 1 )\n",
    "clf.fit( bfeat, blabl )\n",
    "plotContours(clf, 'SVC_decbound_bdataset2.png')"
   ]
  },
  {
   "cell_type": "markdown",
   "metadata": {},
   "source": [
    " "
   ]
  }
 ],
 "metadata": {
  "kernelspec": {
   "display_name": "Python 3",
   "language": "python",
   "name": "python3"
  },
  "language_info": {
   "codemirror_mode": {
    "name": "ipython",
    "version": 3
   },
   "file_extension": ".py",
   "mimetype": "text/x-python",
   "name": "python",
   "nbconvert_exporter": "python",
   "pygments_lexer": "ipython3",
   "version": "3.6.4"
  }
 },
 "nbformat": 4,
 "nbformat_minor": 2
}
