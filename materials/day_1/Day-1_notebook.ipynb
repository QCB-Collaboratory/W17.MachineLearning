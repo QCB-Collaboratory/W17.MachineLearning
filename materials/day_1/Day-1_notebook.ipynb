{
 "cells": [
  {
   "cell_type": "markdown",
   "metadata": {},
   "source": [
    "# Machine Learning with Python\n",
    "\n",
    "#### Collaboratory workshop, 02/20/2018\n",
    "\n",
    "\n",
    "This is a notebook developed throughout the first day of the Collaboratory Workshop, _Machine Learning with Python_. For more information, go to the workshop home page:\n",
    "\n",
    "https://github.com/QCB-Collaboratory/W17.MachineLearning/wiki/Day-1\n"
   ]
  },
  {
   "cell_type": "markdown",
   "metadata": {},
   "source": [
    "## Python nano-review\n",
    "\n",
    "In the following we will review very basic concepts from Python and learn how to use Jupyter Notebooks."
   ]
  },
  {
   "cell_type": "code",
   "execution_count": 1,
   "metadata": {},
   "outputs": [],
   "source": [
    "x = 5*3 + 2"
   ]
  },
  {
   "cell_type": "code",
   "execution_count": 2,
   "metadata": {},
   "outputs": [
    {
     "data": {
      "text/plain": [
       "119.6"
      ]
     },
     "execution_count": 2,
     "metadata": {},
     "output_type": "execute_result"
    }
   ],
   "source": [
    "y = 7*x**2 + 0.6*x\n",
    "z = 1/x\n",
    "y*z"
   ]
  },
  {
   "cell_type": "code",
   "execution_count": 3,
   "metadata": {},
   "outputs": [
    {
     "name": "stdout",
     "output_type": "stream",
     "text": [
      "Element 0\n",
      "Element 1\n",
      "Element 2\n",
      "Element 3\n",
      "Element 4\n",
      "Element 5\n",
      "Element 6\n",
      "Element 7\n",
      "Element 8\n",
      "Element 9\n"
     ]
    }
   ],
   "source": [
    "x = range(10)\n",
    "for element in x:\n",
    "    print(\"Element\",element)"
   ]
  },
  {
   "cell_type": "markdown",
   "metadata": {},
   "source": [
    "This is some text. We can even use formulas:\n",
    "$$ \\theta = \\frac{[L]^n}{K_d+[l]^n}$$"
   ]
  },
  {
   "cell_type": "code",
   "execution_count": 4,
   "metadata": {},
   "outputs": [
    {
     "name": "stdout",
     "output_type": "stream",
     "text": [
      "119.6\n"
     ]
    }
   ],
   "source": [
    "print(y*z)"
   ]
  },
  {
   "cell_type": "markdown",
   "metadata": {},
   "source": [
    "## Introducing NumPy and Matlplotlib\n",
    "\n",
    "Next, we will explore two key libraries used not only to Machine Learning, but also to any quantitative project written in Python. While Numpy is a library for optimized matrix operations, Matplotlib allows you to create virtually any visualization (2-D plots, scatter plots, bar plots, etc).\n",
    "\n",
    "Let's start with Numpy"
   ]
  },
  {
   "cell_type": "code",
   "execution_count": 5,
   "metadata": {},
   "outputs": [],
   "source": [
    "import numpy"
   ]
  },
  {
   "cell_type": "code",
   "execution_count": 6,
   "metadata": {},
   "outputs": [
    {
     "name": "stdout",
     "output_type": "stream",
     "text": [
      "<class 'list'>\n",
      "<class 'numpy.ndarray'>\n"
     ]
    }
   ],
   "source": [
    "a = [1,2,3,4,5]\n",
    "print( type(a) )   # displays the type of the variable a\n",
    "\n",
    "b = numpy.array( [1,2,3,4,5] )\n",
    "print( type(b) )   # displays the type of the variable b"
   ]
  },
  {
   "cell_type": "code",
   "execution_count": 7,
   "metadata": {},
   "outputs": [
    {
     "name": "stdout",
     "output_type": "stream",
     "text": [
      "<class 'numpy.ndarray'>\n"
     ]
    }
   ],
   "source": [
    "import numpy as np  # allows user to use np instead of numpy\n",
    "\n",
    "c = np.array( [5,4,3,2,1] )\n",
    "print( type(c) )    # displays the type of the variable c"
   ]
  },
  {
   "cell_type": "markdown",
   "metadata": {},
   "source": [
    "Using mathematical operations on numpy arrays:"
   ]
  },
  {
   "cell_type": "code",
   "execution_count": 8,
   "metadata": {},
   "outputs": [
    {
     "name": "stdout",
     "output_type": "stream",
     "text": [
      "Sum of lists:  [1, 2, 3, 4, 5, 1, 2, 3, 4, 5]\n",
      "Sum of NumPy arrays:  [6 6 6 6 6]\n"
     ]
    }
   ],
   "source": [
    "print(\"Sum of lists: \", a + a)\n",
    "\n",
    "print(\"Sum of NumPy arrays: \", b + c )"
   ]
  },
  {
   "cell_type": "code",
   "execution_count": 9,
   "metadata": {},
   "outputs": [
    {
     "name": "stdout",
     "output_type": "stream",
     "text": [
      "Original array:  [1 2 3 4 5]\n",
      "Summing a constant:  [ 8.1  9.1 10.1 11.1 12.1]\n",
      "Multiplying by a constant:  [ 2.5  5.   7.5 10.  12.5]\n",
      "Power function:  [  1   8  27  64 125]\n",
      "Element-wise product:  [5 8 9 8 5]\n",
      "Element-wise division:  [0.2 0.5 1.  2.  5. ]\n",
      "Element-wise modulo:  [1 2 0 0 0]\n"
     ]
    }
   ],
   "source": [
    "print(\"Original array: \", b)\n",
    "print(\"Summing a constant: \", b + 7.1 )\n",
    "print(\"Multiplying by a constant: \", b*2.5 )\n",
    "print(\"Power function: \", b**3 )\n",
    "print(\"Element-wise product: \", b*c )\n",
    "print(\"Element-wise division: \", b/c )\n",
    "print(\"Element-wise modulo: \", b%c )"
   ]
  },
  {
   "cell_type": "code",
   "execution_count": 10,
   "metadata": {},
   "outputs": [
    {
     "name": "stdout",
     "output_type": "stream",
     "text": [
      "Exponential:  [  2.71828183   7.3890561   20.08553692  54.59815003 148.4131591 ]\n",
      "Sine:  [ 0.84147098  0.90929743  0.14112001 -0.7568025  -0.95892427]\n",
      "Cosine:  [ 0.54030231 -0.41614684 -0.9899925  -0.65364362  0.28366219]\n"
     ]
    }
   ],
   "source": [
    "print(\"Exponential: \", np.exp(b) )\n",
    "print(\"Sine: \", np.sin(b) )\n",
    "print(\"Cosine: \", np.cos(b) )"
   ]
  },
  {
   "cell_type": "markdown",
   "metadata": {},
   "source": [
    "Selecting elements and sets of elements from your numpy array:"
   ]
  },
  {
   "cell_type": "code",
   "execution_count": 11,
   "metadata": {},
   "outputs": [
    {
     "name": "stdout",
     "output_type": "stream",
     "text": [
      "First element in b:  1\n",
      "Second element in b:  2\n",
      "Last element in b:  5\n",
      "All elements in b:  [1 2 3 4 5]\n",
      "Elements from 1 to 3:  [2 3 4]\n",
      "From 0 to end in steps of 2:  [1 3]\n"
     ]
    }
   ],
   "source": [
    "print(\"First element in b: \", b[0] )\n",
    "print(\"Second element in b: \", b[1] )\n",
    "print(\"Last element in b: \", b[-1] )\n",
    "print(\"All elements in b: \", b[:] )\n",
    "print(\"Elements from 1 to 3: \", b[1:4] ) # last one doesn't count!\n",
    "print(\"From 0 to end in steps of 2: \", b[0:-1:2] )"
   ]
  },
  {
   "cell_type": "code",
   "execution_count": 12,
   "metadata": {},
   "outputs": [
    {
     "data": {
      "text/plain": [
       "(5,)"
      ]
     },
     "execution_count": 12,
     "metadata": {},
     "output_type": "execute_result"
    }
   ],
   "source": [
    "b.shape"
   ]
  },
  {
   "cell_type": "code",
   "execution_count": 13,
   "metadata": {},
   "outputs": [
    {
     "data": {
      "text/plain": [
       "15"
      ]
     },
     "execution_count": 13,
     "metadata": {},
     "output_type": "execute_result"
    }
   ],
   "source": [
    "b.sum()"
   ]
  },
  {
   "cell_type": "code",
   "execution_count": 14,
   "metadata": {},
   "outputs": [
    {
     "data": {
      "text/plain": [
       "array([1. , 1.5, 2. , 2.5, 3. , 3.5, 4. , 4.5])"
      ]
     },
     "execution_count": 14,
     "metadata": {},
     "output_type": "execute_result"
    }
   ],
   "source": [
    "np.arange(1,5,0.5)"
   ]
  },
  {
   "cell_type": "code",
   "execution_count": 15,
   "metadata": {},
   "outputs": [
    {
     "data": {
      "text/plain": [
       "array([ 0.        ,  3.33333333,  6.66666667, 10.        ])"
      ]
     },
     "execution_count": 15,
     "metadata": {},
     "output_type": "execute_result"
    }
   ],
   "source": [
    "np.linspace(0,10,4)"
   ]
  },
  {
   "cell_type": "code",
   "execution_count": 16,
   "metadata": {},
   "outputs": [
    {
     "data": {
      "text/plain": [
       "array([1., 1., 1., 1., 1.])"
      ]
     },
     "execution_count": 16,
     "metadata": {},
     "output_type": "execute_result"
    }
   ],
   "source": [
    "np.ones(5)"
   ]
  },
  {
   "cell_type": "code",
   "execution_count": 17,
   "metadata": {},
   "outputs": [
    {
     "data": {
      "text/plain": [
       "array([0., 0., 0., 0., 0.])"
      ]
     },
     "execution_count": 17,
     "metadata": {},
     "output_type": "execute_result"
    }
   ],
   "source": [
    "np.zeros(5)"
   ]
  },
  {
   "cell_type": "code",
   "execution_count": 18,
   "metadata": {},
   "outputs": [
    {
     "name": "stdout",
     "output_type": "stream",
     "text": [
      "The array A:\n",
      " [[  1   2   3   4]\n",
      " [ 10  20  30  40]\n",
      " [100 200 300 400]]\n",
      "Shape of A: (3, 4)\n",
      "Number of dimensions of A: 2\n"
     ]
    }
   ],
   "source": [
    "A = np.array([[1,2,3,4],[10,20,30,40],[100,200,300,400]])\n",
    "print(\"The array A:\\n\",A)\n",
    "print(\"Shape of A:\",A.shape)\n",
    "print(\"Number of dimensions of A:\",A.ndim)"
   ]
  },
  {
   "cell_type": "code",
   "execution_count": 21,
   "metadata": {},
   "outputs": [
    {
     "name": "stdout",
     "output_type": "stream",
     "text": [
      "Shape: (10,)\n",
      "Ndim: 1\n"
     ]
    }
   ],
   "source": [
    "B = np.arange(10)\n",
    "print(\"Shape:\",B.shape)\n",
    "print(\"Ndim:\",B.ndim)"
   ]
  },
  {
   "cell_type": "code",
   "execution_count": 23,
   "metadata": {},
   "outputs": [
    {
     "name": "stdout",
     "output_type": "stream",
     "text": [
      "Shape: (10, 1)\n",
      "Ndim: 2\n"
     ]
    }
   ],
   "source": [
    "B = B.reshape((10,1))\n",
    "print(\"Shape:\",B.shape)\n",
    "print(\"Ndim:\",B.ndim)"
   ]
  },
  {
   "cell_type": "code",
   "execution_count": null,
   "metadata": {},
   "outputs": [],
   "source": [
    "print(\"Array A:\\n\",A)\n",
    "print(\"Element at pos (1,2):\",A[1,2],'\\n')\n",
    "print(\"Line #2 of A:\\n\",A[2,:],'\\n')\n",
    "print(\"Column #1 of A:\\n\",A[:,1],'\\n')\n"
   ]
  },
  {
   "cell_type": "markdown",
   "metadata": {},
   "source": [
    "Let's recall how to perform _logical tests_ in Python."
   ]
  },
  {
   "cell_type": "markdown",
   "metadata": {},
   "source": [
    "We can select based on the result of a logical test:"
   ]
  },
  {
   "cell_type": "code",
   "execution_count": null,
   "metadata": {},
   "outputs": [],
   "source": [
    "print( A > 25 )"
   ]
  },
  {
   "cell_type": "code",
   "execution_count": null,
   "metadata": {},
   "outputs": [],
   "source": [
    "print( A[A > 25] )"
   ]
  },
  {
   "cell_type": "markdown",
   "metadata": {},
   "source": [
    "As an example of an attribute, let's see the \"shape\" of one of our numpy arrays:"
   ]
  },
  {
   "cell_type": "markdown",
   "metadata": {},
   "source": [
    "As an example of a method, let's evaluate the sum of all elements in one of our numpy arrays:"
   ]
  },
  {
   "cell_type": "code",
   "execution_count": null,
   "metadata": {},
   "outputs": [],
   "source": [
    "b.sum()"
   ]
  },
  {
   "cell_type": "markdown",
   "metadata": {},
   "source": [
    "This means that the sums of the elements in b is 15."
   ]
  },
  {
   "cell_type": "markdown",
   "metadata": {},
   "source": [
    "### Matplotlib"
   ]
  },
  {
   "cell_type": "markdown",
   "metadata": {},
   "source": [
    "Next, we will explore the basics of Matplotlib to create simple plots."
   ]
  },
  {
   "cell_type": "code",
   "execution_count": null,
   "metadata": {},
   "outputs": [],
   "source": [
    "import matplotlib.pyplot as plt"
   ]
  },
  {
   "cell_type": "code",
   "execution_count": null,
   "metadata": {},
   "outputs": [],
   "source": [
    "y = np.array([0,10,3,4,2])\n",
    "\n",
    "plt.plot(y)\n",
    "plt.show()"
   ]
  },
  {
   "cell_type": "code",
   "execution_count": null,
   "metadata": {},
   "outputs": [],
   "source": [
    "x = np.arange(15)\n",
    "y1 = np.sin(0.5*x)\n",
    "y2 = np.cos(0.5*x)\n",
    "\n",
    "plt.plot(x, y1, 'o--', markersize=10, linewidth=1.2, \n",
    "            color='r', label='Sine')\n",
    "plt.plot(x, y2, 's--', markersize=10, linewidth=1.2, \n",
    "            color='k', label='Cosine')\n",
    "\n",
    "plt.xlabel('Time (s)')\n",
    "plt.ylabel('Fluorescence (a.u.)')\n",
    "\n",
    "plt.yticks([-1.0,-0.5,0.0,0.5,1.0])\n",
    "\n",
    "plt.legend(frameon=False)\n",
    "plt.show()"
   ]
  },
  {
   "cell_type": "markdown",
   "metadata": {},
   "source": [
    "To export a plot, here is the usual structure:\n",
    "\n",
    "```python\n",
    "f = pl.figure( figsize=(5,3) )\n",
    "\n",
    "...\n",
    "plotting...\n",
    "...\n",
    "\n",
    "pl.tight_layout()\n",
    "pl.savefig('Fig1.png', dpi=300)\n",
    "```\n",
    "\n",
    "Next we plot the same functions from last cell, but save it as a PNG file."
   ]
  },
  {
   "cell_type": "code",
   "execution_count": null,
   "metadata": {},
   "outputs": [],
   "source": [
    "f = plt.figure( figsize=(5,3) )\n",
    "\n",
    "x = np.arange(15)\n",
    "y1 = np.sin(0.5*x)\n",
    "y2 = np.cos(0.5*x)\n",
    "\n",
    "plt.plot(x, y1, 'o--', markersize=10, linewidth=1.2, \n",
    "            color='r', label='Sine')\n",
    "plt.plot(x, y2, 's--', markersize=10, linewidth=1.2, \n",
    "            color='k', label='Cosine')\n",
    "\n",
    "plt.xlabel('Time (s)')\n",
    "plt.ylabel('Fluorescence (a.u.)')\n",
    "\n",
    "plt.yticks([-1.0,-0.5,0.0,0.5,1.0])\n",
    "\n",
    "plt.tight_layout()\n",
    "plt.savefig('Fig1.png', dpi=300)\n",
    "plt.close()\n",
    "\n",
    "print(\"Figure saved.\")"
   ]
  },
  {
   "cell_type": "markdown",
   "metadata": {},
   "source": [
    "## Getting started with Scikit-Learn\n",
    "\n",
    "In this last section of our first day, we explore Scikit-Learn's general structure to create our very first Machine Learning model."
   ]
  },
  {
   "cell_type": "code",
   "execution_count": null,
   "metadata": {},
   "outputs": [],
   "source": [
    "import sklearn\n",
    "import matplotlib.pyplot as plt\n",
    "\n",
    "import sklearn.datasets\n",
    "bcancer = sklearn.datasets.load_breast_cancer()"
   ]
  },
  {
   "cell_type": "code",
   "execution_count": null,
   "metadata": {},
   "outputs": [],
   "source": [
    "print(\"Features: \", bcancer.data.shape)\n",
    "print(\"Target: \", bcancer.target.shape)"
   ]
  },
  {
   "cell_type": "markdown",
   "metadata": {},
   "source": [
    "Quick reminder:\n",
    "\n",
    "* \"Features\" in Machine Learning is a set of quantitative characteristics (or measures) about each of your samples. Models will use features to make predictions about a target variable. In the Breast Cancer Wisconsin Dataset, there are 30 different features and 569 samples.\n",
    "\n",
    "* \"Target\" is our objective: our model should use the features to predict the target. During the training, the target is known and also called _ground truth_. \n",
    "\n",
    "Let's take a look at the targets"
   ]
  },
  {
   "cell_type": "code",
   "execution_count": null,
   "metadata": {},
   "outputs": [],
   "source": [
    "print( bcancer.target )"
   ]
  },
  {
   "cell_type": "markdown",
   "metadata": {},
   "source": [
    "As you can see, they are always 0 or 1, indicating malignant or benign (respectively).\n",
    "\n",
    "Let's inspect one of the samples. The very first sample, which has target 0 (i.e. malign), has the following features:"
   ]
  },
  {
   "cell_type": "code",
   "execution_count": null,
   "metadata": {},
   "outputs": [],
   "source": [
    "bcancer.data[0]"
   ]
  },
  {
   "cell_type": "markdown",
   "metadata": {},
   "source": [
    "Although the numbers have little specific meaning, they were measured based on the nuclei of cells extracted from patients. So our target is to create a model that receives numbers like these, and predicts whether they are from a malign or benign cancer cells."
   ]
  },
  {
   "cell_type": "code",
   "execution_count": null,
   "metadata": {},
   "outputs": [],
   "source": [
    "from sklearn.tree import DecisionTreeClassifier"
   ]
  },
  {
   "cell_type": "markdown",
   "metadata": {},
   "source": [
    "Next we create a model and store it in a variable, and then we fit it to the data at hand."
   ]
  },
  {
   "cell_type": "code",
   "execution_count": null,
   "metadata": {},
   "outputs": [],
   "source": [
    "bcancer_model = DecisionTreeClassifier( max_depth=4 )"
   ]
  },
  {
   "cell_type": "code",
   "execution_count": null,
   "metadata": {},
   "outputs": [],
   "source": [
    "bcancer_model.fit( bcancer.data, bcancer.target )"
   ]
  },
  {
   "cell_type": "markdown",
   "metadata": {},
   "source": [
    "Let's evaluate the prediction of this model on two samples: one from class 0 (malign) and one from class 1 (benign)."
   ]
  },
  {
   "cell_type": "code",
   "execution_count": null,
   "metadata": {},
   "outputs": [],
   "source": [
    "print( bcancer_model.predict( [bcancer.data[0]] ) )\n",
    "print( bcancer.target[0] )"
   ]
  },
  {
   "cell_type": "code",
   "execution_count": null,
   "metadata": {},
   "outputs": [],
   "source": [
    "print( bcancer_model.predict( [bcancer.data[19]] ) )\n",
    "print( bcancer.target[19] )"
   ]
  },
  {
   "cell_type": "markdown",
   "metadata": {},
   "source": [
    "We can also evaluate the prediction of your model on an entire dataset:"
   ]
  },
  {
   "cell_type": "code",
   "execution_count": null,
   "metadata": {},
   "outputs": [],
   "source": [
    "bcancer_predictions = bcancer_model.predict( bcancer.data )\n",
    "print( bcancer_predictions )"
   ]
  },
  {
   "cell_type": "markdown",
   "metadata": {},
   "source": [
    "Let's compare the ground truth with the predictions evaluted above:"
   ]
  },
  {
   "cell_type": "code",
   "execution_count": null,
   "metadata": {},
   "outputs": [],
   "source": [
    "bcancer.target == bcancer_predictions"
   ]
  },
  {
   "cell_type": "markdown",
   "metadata": {},
   "source": [
    "Every ```True``` above means a prediction that matched its corresponding ground truth. ```False``` elements reflect wrong predictions (also known as misclassifications). Let's visualize how many correct classifications and how many misclassifications we had with this first classifier."
   ]
  },
  {
   "cell_type": "code",
   "execution_count": null,
   "metadata": {},
   "outputs": [],
   "source": [
    "compar = (bcancer.target == bcancer_predictions).astype(int)\n",
    "\n",
    "plt.hist( compar, bins=3 )\n",
    "\n",
    "plt.ylabel('Count')\n",
    "plt.xticks( [0.15,0.85], ['Misclassified', 'Correctly classified'] )\n",
    "\n",
    "plt.show()"
   ]
  },
  {
   "cell_type": "markdown",
   "metadata": {},
   "source": [
    "This is an example of how to create a model. On Day 2 we will explore more models and learn how to validate the model, making sure that we indeed have prediction power.\n",
    "\n",
    "<br/>\n",
    "The end, my friends."
   ]
  },
  {
   "cell_type": "code",
   "execution_count": null,
   "metadata": {},
   "outputs": [],
   "source": [
    "(comparision==0).sum()/len(comparision)"
   ]
  },
  {
   "cell_type": "code",
   "execution_count": null,
   "metadata": {},
   "outputs": [],
   "source": []
  }
 ],
 "metadata": {
  "kernelspec": {
   "display_name": "Python 3",
   "language": "python",
   "name": "python3"
  },
  "language_info": {
   "codemirror_mode": {
    "name": "ipython",
    "version": 3
   },
   "file_extension": ".py",
   "mimetype": "text/x-python",
   "name": "python",
   "nbconvert_exporter": "python",
   "pygments_lexer": "ipython3",
   "version": "3.6.6"
  }
 },
 "nbformat": 4,
 "nbformat_minor": 2
}
