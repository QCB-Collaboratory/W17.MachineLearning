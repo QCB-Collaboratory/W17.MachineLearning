{
 "cells": [
  {
   "cell_type": "markdown",
   "metadata": {},
   "source": [
    "# Machine Learning with Python\n",
    "\n",
    "#### Collaboratory workshop, 02/20/2018\n",
    "\n",
    "\n",
    "This is a notebook developed throughout the first day of the Collaboratory Workshop, _Machine Learning with Python_. For more information, go to the workshop home page:\n",
    "\n",
    "https://github.com/QCB-Collaboratory/W17.MachineLearning/wiki/Day-1\n"
   ]
  },
  {
   "cell_type": "markdown",
   "metadata": {},
   "source": [
    "## Python nano-review\n",
    "\n",
    "In the following we will review very basic concepts from Python and learn how to use Jupyter Notebooks."
   ]
  },
  {
   "cell_type": "code",
   "execution_count": 1,
   "metadata": {
    "collapsed": true
   },
   "outputs": [],
   "source": [
    "x = 5*3 + 2"
   ]
  },
  {
   "cell_type": "code",
   "execution_count": 2,
   "metadata": {},
   "outputs": [
    {
     "data": {
      "text/plain": [
       "119.6"
      ]
     },
     "execution_count": 2,
     "metadata": {},
     "output_type": "execute_result"
    }
   ],
   "source": [
    "y = 7*x**2 + 0.6*x\n",
    "z = 1/x\n",
    "y*z"
   ]
  },
  {
   "cell_type": "code",
   "execution_count": 3,
   "metadata": {},
   "outputs": [
    {
     "data": {
      "text/plain": [
       "17"
      ]
     },
     "execution_count": 3,
     "metadata": {},
     "output_type": "execute_result"
    }
   ],
   "source": [
    "5*3 + 2"
   ]
  },
  {
   "cell_type": "code",
   "execution_count": 4,
   "metadata": {},
   "outputs": [
    {
     "name": "stdout",
     "output_type": "stream",
     "text": [
      "119.6\n"
     ]
    }
   ],
   "source": [
    "print(y*z)"
   ]
  },
  {
   "cell_type": "code",
   "execution_count": 5,
   "metadata": {},
   "outputs": [
    {
     "name": "stdout",
     "output_type": "stream",
     "text": [
      "17\n"
     ]
    }
   ],
   "source": [
    "print(x)"
   ]
  },
  {
   "cell_type": "markdown",
   "metadata": {},
   "source": [
    "### Questions from slides 35:"
   ]
  },
  {
   "cell_type": "code",
   "execution_count": 6,
   "metadata": {},
   "outputs": [
    {
     "name": "stdout",
     "output_type": "stream",
     "text": [
      "[0, 1, 2, 3, 4, 5, 6, 7, 8, 9, 10]\n"
     ]
    }
   ],
   "source": [
    "x = [0,1,2,3,4,5,6,7,8,9,10]\n",
    "print(x)"
   ]
  },
  {
   "cell_type": "code",
   "execution_count": 7,
   "metadata": {},
   "outputs": [
    {
     "name": "stdout",
     "output_type": "stream",
     "text": [
      "0 0\n",
      "1 1\n",
      "2 4\n",
      "3 9\n",
      "4 16\n",
      "5 25\n",
      "6 36\n",
      "7 49\n",
      "8 64\n",
      "9 81\n",
      "10 100\n"
     ]
    }
   ],
   "source": [
    "for element in x:\n",
    "    print(element,element**2)"
   ]
  },
  {
   "cell_type": "code",
   "execution_count": 8,
   "metadata": {},
   "outputs": [
    {
     "name": "stdout",
     "output_type": "stream",
     "text": [
      "1\n",
      "3\n",
      "5\n",
      "7\n",
      "9\n",
      "The result is 165\n"
     ]
    }
   ],
   "source": [
    "sumOfX = 0\n",
    "for element in x:\n",
    "    if element % 2 == 1 :\n",
    "        print(element)\n",
    "        sumOfX = sumOfX + element**2\n",
    "\n",
    "print(\"The result is %d\" % (sumOfX) )"
   ]
  },
  {
   "cell_type": "markdown",
   "metadata": {},
   "source": [
    "Adding some text.\n",
    "\n",
    "This is some text. We can even use formulas: \n",
    "$$ \\theta = \\frac{[L]^n}{K_d + [L]^n} $$"
   ]
  },
  {
   "cell_type": "markdown",
   "metadata": {},
   "source": [
    "## Introducing NumPy and Matlibplot\n",
    "\n",
    "Next, we will explore two key libraries used not only to Machine Learning, but also to any quantitative project written in Python. While Numpy is a library for optimized matrix operations, Matplotlib allows you to create virtually any visualization (2-D plots, scatter plots, bar plots, etc).\n",
    "\n",
    "Let's start with Numpy"
   ]
  },
  {
   "cell_type": "code",
   "execution_count": 9,
   "metadata": {
    "collapsed": true
   },
   "outputs": [],
   "source": [
    "import numpy"
   ]
  },
  {
   "cell_type": "code",
   "execution_count": 10,
   "metadata": {},
   "outputs": [
    {
     "name": "stdout",
     "output_type": "stream",
     "text": [
      "<class 'list'>\n",
      "<class 'numpy.ndarray'>\n"
     ]
    }
   ],
   "source": [
    "a = [1,2,3,4,5]\n",
    "print( type(a) )   # displays the type of the variable a\n",
    "\n",
    "b = numpy.array( [1,2,3,4,5] )\n",
    "print( type(b) )   # displays the type of the variable b"
   ]
  },
  {
   "cell_type": "code",
   "execution_count": 11,
   "metadata": {},
   "outputs": [
    {
     "name": "stdout",
     "output_type": "stream",
     "text": [
      "<class 'numpy.ndarray'>\n"
     ]
    }
   ],
   "source": [
    "import numpy as np  # allows user to use np instead of numpy\n",
    "\n",
    "c = np.array( [5,4,3,2,1] )\n",
    "print( type(c) )    # displays the type of the variable c"
   ]
  },
  {
   "cell_type": "code",
   "execution_count": 12,
   "metadata": {},
   "outputs": [
    {
     "name": "stdout",
     "output_type": "stream",
     "text": [
      "Sum of lists:  [1, 2, 3, 4, 5, 1, 2, 3, 4, 5]\n",
      "Sum of NumPy arrays:  [6 6 6 6 6]\n"
     ]
    }
   ],
   "source": [
    "print(\"Sum of lists: \", a + a)\n",
    "\n",
    "print(\"Sum of NumPy arrays: \", b + c )"
   ]
  },
  {
   "cell_type": "code",
   "execution_count": 13,
   "metadata": {},
   "outputs": [
    {
     "name": "stdout",
     "output_type": "stream",
     "text": [
      "Original array:  [1 2 3 4 5]\n",
      "Summing a constant:  [  8.1   9.1  10.1  11.1  12.1]\n",
      "Multiplying by a constant:  [  2.5   5.    7.5  10.   12.5]\n",
      "Power function:  [  1   8  27  64 125]\n",
      "Element-wise product:  [5 8 9 8 5]\n",
      "Element-wise division:  [ 0.2  0.5  1.   2.   5. ]\n",
      "Element-wise modulo:  [1 2 0 0 0]\n"
     ]
    }
   ],
   "source": [
    "print(\"Original array: \", b)\n",
    "print(\"Summing a constant: \", b + 7.1 )\n",
    "print(\"Multiplying by a constant: \", b*2.5 )\n",
    "print(\"Power function: \", b**3 )\n",
    "print(\"Element-wise product: \", b*c )\n",
    "print(\"Element-wise division: \", b/c )\n",
    "print(\"Element-wise modulo: \", b%c )"
   ]
  },
  {
   "cell_type": "code",
   "execution_count": 14,
   "metadata": {},
   "outputs": [
    {
     "name": "stdout",
     "output_type": "stream",
     "text": [
      "Exponential:  [   2.71828183    7.3890561    20.08553692   54.59815003  148.4131591 ]\n",
      "Sine:  [ 0.84147098  0.90929743  0.14112001 -0.7568025  -0.95892427]\n",
      "Cosine:  [ 0.54030231 -0.41614684 -0.9899925  -0.65364362  0.28366219]\n"
     ]
    }
   ],
   "source": [
    "print(\"Exponential: \", np.exp(b) )\n",
    "print(\"Sine: \", np.sin(b) )\n",
    "print(\"Cosine: \", np.cos(b) )"
   ]
  },
  {
   "cell_type": "code",
   "execution_count": 15,
   "metadata": {},
   "outputs": [
    {
     "name": "stdout",
     "output_type": "stream",
     "text": [
      "First element in b:  1\n",
      "Second element in b:  2\n",
      "Last element in b:  5\n",
      "All elements in b:  [1 2 3 4 5]\n",
      "Elements from 1 to 3:  [2 3 4]\n",
      "From 0 to end in steps of 2:  [1 3]\n"
     ]
    }
   ],
   "source": [
    "print(\"First element in b: \", b[0] )\n",
    "print(\"Second element in b: \", b[1] )\n",
    "print(\"Last element in b: \", b[-1] )\n",
    "print(\"All elements in b: \", b[:] )\n",
    "print(\"Elements from 1 to 3: \", b[1:4] ) # last one doesn't count!\n",
    "print(\"From 0 to end in steps of 2: \", b[0:-1:2] )"
   ]
  },
  {
   "cell_type": "code",
   "execution_count": 16,
   "metadata": {},
   "outputs": [
    {
     "name": "stdout",
     "output_type": "stream",
     "text": [
      "True\n",
      "False\n",
      "True\n"
     ]
    }
   ],
   "source": [
    "print( 1 == 1 )\n",
    "print( 1 > 1 )\n",
    "print( 1 >= 1 )"
   ]
  },
  {
   "cell_type": "code",
   "execution_count": 17,
   "metadata": {},
   "outputs": [
    {
     "name": "stdout",
     "output_type": "stream",
     "text": [
      "[False False False  True  True]\n",
      "[ True  True False False False]\n"
     ]
    }
   ],
   "source": [
    "print( b > 3 )\n",
    "print( c > 3 )"
   ]
  },
  {
   "cell_type": "code",
   "execution_count": 18,
   "metadata": {},
   "outputs": [
    {
     "name": "stdout",
     "output_type": "stream",
     "text": [
      "[4 5]\n",
      "[1 2]\n"
     ]
    }
   ],
   "source": [
    "print( b[b > 3] )\n",
    "print( b[c > 3] )"
   ]
  },
  {
   "cell_type": "code",
   "execution_count": 19,
   "metadata": {},
   "outputs": [
    {
     "data": {
      "text/plain": [
       "(5,)"
      ]
     },
     "execution_count": 19,
     "metadata": {},
     "output_type": "execute_result"
    }
   ],
   "source": [
    "b.shape"
   ]
  },
  {
   "cell_type": "code",
   "execution_count": 20,
   "metadata": {},
   "outputs": [
    {
     "data": {
      "text/plain": [
       "15"
      ]
     },
     "execution_count": 20,
     "metadata": {},
     "output_type": "execute_result"
    }
   ],
   "source": [
    "b.sum()"
   ]
  },
  {
   "cell_type": "code",
   "execution_count": 21,
   "metadata": {},
   "outputs": [
    {
     "name": "stdout",
     "output_type": "stream",
     "text": [
      "Size attribute:  5\n",
      "ndim attribute:  1\n"
     ]
    }
   ],
   "source": [
    "print(\"Size attribute: \", b.size)\n",
    "print(\"ndim attribute: \", b.ndim)"
   ]
  },
  {
   "cell_type": "code",
   "execution_count": 22,
   "metadata": {},
   "outputs": [
    {
     "name": "stdout",
     "output_type": "stream",
     "text": [
      "Cumulative sum:  [ 1  3  6 10 15]\n",
      "Mean of elements:  3.0\n",
      "Max of elements:  5\n",
      "Min of elements:  1\n"
     ]
    }
   ],
   "source": [
    "print(\"Cumulative sum: \", b.cumsum())\n",
    "print(\"Mean of elements: \", b.mean())\n",
    "print(\"Max of elements: \", b.max())\n",
    "print(\"Min of elements: \", b.min())"
   ]
  },
  {
   "cell_type": "markdown",
   "metadata": {},
   "source": [
    "Next, we will explore the basics of Matplotlib to create simple plots."
   ]
  },
  {
   "cell_type": "code",
   "execution_count": 23,
   "metadata": {
    "collapsed": true
   },
   "outputs": [],
   "source": [
    "import pylab as pl"
   ]
  },
  {
   "cell_type": "code",
   "execution_count": 24,
   "metadata": {},
   "outputs": [
    {
     "data": {
      "image/png": "[encoded data removed]",
      "text/plain": [
       "<matplotlib.figure.Figure at 0x1143b9208>"
      ]
     },
     "metadata": {},
     "output_type": "display_data"
    }
   ],
   "source": [
    "pl.plot(b)\n",
    "pl.show()"
   ]
  },
  {
   "cell_type": "code",
   "execution_count": 25,
   "metadata": {},
   "outputs": [
    {
     "data": {
      "image/png": "[encoded data removed]",
      "text/plain": [
       "<matplotlib.figure.Figure at 0x116c05cf8>"
      ]
     },
     "metadata": {},
     "output_type": "display_data"
    }
   ],
   "source": [
    "x = np.array( [0,1,2,3,4,5,6,7,8,9,10,11,12,13,14,15] )\n",
    "y1 = np.sin(0.5*x)\n",
    "y2 = np.cos(0.5*x)\n",
    "\n",
    "pl.plot(x, y1, 'o--', markersize=10, linewidth=1.2, \n",
    "            color='r', label='Sine')\n",
    "pl.plot(x, y2, 's--', markersize=10, linewidth=1.2, \n",
    "            color='k', label='Cosine')\n",
    "\n",
    "pl.xlabel('Time (s)')\n",
    "pl.ylabel('Fluorescence (a.u.)')\n",
    "\n",
    "pl.yticks([-1,-0.5,0.0,0.5,1.0])\n",
    "\n",
    "pl.legend( frameon=False )\n",
    "pl.show()"
   ]
  },
  {
   "cell_type": "markdown",
   "metadata": {},
   "source": [
    "To export a plot, here is the usual structure:\n",
    "\n",
    "```python\n",
    "f = pl.figure( figsize=(5,3) )\n",
    "\n",
    "...\n",
    "plotting...\n",
    "...\n",
    "\n",
    "pl.tight_layout()\n",
    "pl.savefig('Fig1.png', dpi=300)\n",
    "```\n",
    "\n",
    "Next we plot the same functions from last cell, but save it as a PNG file."
   ]
  },
  {
   "cell_type": "code",
   "execution_count": 26,
   "metadata": {},
   "outputs": [
    {
     "name": "stdout",
     "output_type": "stream",
     "text": [
      "Figure saved.\n"
     ]
    }
   ],
   "source": [
    "f = pl.figure( figsize=(5,3) )\n",
    "\n",
    "x = np.array( [0,1,2,3,4,5,6,7,8,9,10,11,12,13,14,15] )\n",
    "y1 = np.sin(0.5*x)\n",
    "y2 = np.cos(0.5*x)\n",
    "\n",
    "pl.plot(x, y1, 'o--', markersize=10, linewidth=1.2, \n",
    "            color='r', label='Sine')\n",
    "pl.plot(x, y2, 's--', markersize=10, linewidth=1.2, \n",
    "            color='k', label='Cosine')\n",
    "\n",
    "pl.xlabel('Time (s)')\n",
    "pl.ylabel('Fluorescence (a.u.)')\n",
    "\n",
    "pl.yticks([-1,-0.5,0.0,0.5,1.0])\n",
    "\n",
    "pl.legend( frameon=False )\n",
    "\n",
    "pl.tight_layout()\n",
    "pl.savefig('Fig1.png', dpi=300)\n",
    "pl.close()\n",
    "\n",
    "print(\"Figure saved.\")"
   ]
  },
  {
   "cell_type": "markdown",
   "metadata": {},
   "source": [
    "## Getting started with Scikit-Learn\n",
    "\n",
    "In this last section of our first day, we explore Scikit-Learn's general structure to create our very first Machine Learning model."
   ]
  },
  {
   "cell_type": "code",
   "execution_count": 27,
   "metadata": {
    "collapsed": true
   },
   "outputs": [],
   "source": [
    "import sklearn\n",
    "import pylab as pl\n",
    "\n",
    "import sklearn.datasets\n",
    "bcancer = sklearn.datasets.load_breast_cancer()"
   ]
  },
  {
   "cell_type": "code",
   "execution_count": 28,
   "metadata": {},
   "outputs": [
    {
     "name": "stdout",
     "output_type": "stream",
     "text": [
      "Features:  (569, 30)\n",
      "Labels:  (569,)\n"
     ]
    }
   ],
   "source": [
    "print(\"Features: \", bcancer.data.shape)\n",
    "print(\"Labels: \", bcancer.target.shape)"
   ]
  },
  {
   "cell_type": "code",
   "execution_count": 29,
   "metadata": {},
   "outputs": [
    {
     "name": "stdout",
     "output_type": "stream",
     "text": [
      "[0 0 0 0 0 0 0 0 0 0 0 0 0 0 0 0 0 0 0 1 1 1 0 0 0 0 0 0 0 0 0 0 0 0 0 0 0\n",
      " 1 0 0 0 0 0 0 0 0 1 0 1 1 1 1 1 0 0 1 0 0 1 1 1 1 0 1 0 0 1 1 1 1 0 1 0 0\n",
      " 1 0 1 0 0 1 1 1 0 0 1 0 0 0 1 1 1 0 1 1 0 0 1 1 1 0 0 1 1 1 1 0 1 1 0 1 1\n",
      " 1 1 1 1 1 1 0 0 0 1 0 0 1 1 1 0 0 1 0 1 0 0 1 0 0 1 1 0 1 1 0 1 1 1 1 0 1\n",
      " 1 1 1 1 1 1 1 1 0 1 1 1 1 0 0 1 0 1 1 0 0 1 1 0 0 1 1 1 1 0 1 1 0 0 0 1 0\n",
      " 1 0 1 1 1 0 1 1 0 0 1 0 0 0 0 1 0 0 0 1 0 1 0 1 1 0 1 0 0 0 0 1 1 0 0 1 1\n",
      " 1 0 1 1 1 1 1 0 0 1 1 0 1 1 0 0 1 0 1 1 1 1 0 1 1 1 1 1 0 1 0 0 0 0 0 0 0\n",
      " 0 0 0 0 0 0 0 1 1 1 1 1 1 0 1 0 1 1 0 1 1 0 1 0 0 1 1 1 1 1 1 1 1 1 1 1 1\n",
      " 1 0 1 1 0 1 0 1 1 1 1 1 1 1 1 1 1 1 1 1 1 0 1 1 1 0 1 0 1 1 1 1 0 0 0 1 1\n",
      " 1 1 0 1 0 1 0 1 1 1 0 1 1 1 1 1 1 1 0 0 0 1 1 1 1 1 1 1 1 1 1 1 0 0 1 0 0\n",
      " 0 1 0 0 1 1 1 1 1 0 1 1 1 1 1 0 1 1 1 0 1 1 0 0 1 1 1 1 1 1 0 1 1 1 1 1 1\n",
      " 1 0 1 1 1 1 1 0 1 1 0 1 1 1 1 1 1 1 1 1 1 1 1 0 1 0 0 1 0 1 1 1 1 1 0 1 1\n",
      " 0 1 0 1 1 0 1 0 1 1 1 1 1 1 1 1 0 0 1 1 1 1 1 1 0 1 1 1 1 1 1 1 1 1 1 0 1\n",
      " 1 1 1 1 1 1 0 1 0 1 1 0 1 1 1 1 1 0 0 1 0 1 0 1 1 1 1 1 0 1 1 0 1 0 1 0 0\n",
      " 1 1 1 0 1 1 1 1 1 1 1 1 1 1 1 0 1 0 0 1 1 1 1 1 1 1 1 1 1 1 1 1 1 1 1 1 1\n",
      " 1 1 1 1 1 1 1 0 0 0 0 0 0 1]\n"
     ]
    }
   ],
   "source": [
    "print( bcancer.target )"
   ]
  },
  {
   "cell_type": "code",
   "execution_count": 30,
   "metadata": {},
   "outputs": [
    {
     "data": {
      "text/plain": [
       "PCA(copy=True, iterated_power='auto', n_components=3, random_state=None,\n",
       "  svd_solver='auto', tol=0.0, whiten=False)"
      ]
     },
     "execution_count": 30,
     "metadata": {},
     "output_type": "execute_result"
    }
   ],
   "source": [
    "from sklearn.decomposition import PCA\n",
    "\n",
    "bcancer_pca = PCA( n_components=3 )\n",
    "bcancer_pca.fit(bcancer.data)"
   ]
  },
  {
   "cell_type": "code",
   "execution_count": 31,
   "metadata": {},
   "outputs": [
    {
     "data": {
      "image/png": "[encoded data removed]",
      "text/plain": [
       "<matplotlib.figure.Figure at 0x116c05128>"
      ]
     },
     "metadata": {},
     "output_type": "display_data"
    }
   ],
   "source": [
    "pl.plot( bcancer_pca.explained_variance_ratio_, 'o--' )\n",
    "pl.show()"
   ]
  },
  {
   "cell_type": "code",
   "execution_count": 32,
   "metadata": {},
   "outputs": [
    {
     "data": {
      "image/png": "[encoded data removed]",
      "text/plain": [
       "<matplotlib.figure.Figure at 0x1a2065a470>"
      ]
     },
     "metadata": {},
     "output_type": "display_data"
    }
   ],
   "source": [
    "index1 = bcancer.target == 1\n",
    "index0 = bcancer.target == 0\n",
    "\n",
    "transfFeatures = bcancer_pca.transform( bcancer.data )    # Finding the Principal Components\n",
    "\n",
    "pl.plot( transfFeatures[index0,0], transfFeatures[index0,1], 'ro' )\n",
    "pl.plot( transfFeatures[index1,0], transfFeatures[index1,1], 'bo' )\n",
    "pl.show()"
   ]
  },
  {
   "cell_type": "markdown",
   "metadata": {
    "collapsed": true
   },
   "source": [
    "The end, my friends..."
   ]
  }
 ],
 "metadata": {
  "kernelspec": {
   "display_name": "Python 3",
   "language": "python",
   "name": "python3"
  },
  "language_info": {
   "codemirror_mode": {
    "name": "ipython",
    "version": 3
   },
   "file_extension": ".py",
   "mimetype": "text/x-python",
   "name": "python",
   "nbconvert_exporter": "python",
   "pygments_lexer": "ipython3",
   "version": "3.6.4"
  }
 },
 "nbformat": 4,
 "nbformat_minor": 2
}
